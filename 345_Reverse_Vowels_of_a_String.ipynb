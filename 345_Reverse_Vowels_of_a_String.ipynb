{
 "cells": [
  {
   "cell_type": "code",
   "execution_count": 5,
   "metadata": {},
   "outputs": [
    {
     "data": {
      "text/plain": [
       "'hey gide hay'"
      ]
     },
     "execution_count": 5,
     "metadata": {},
     "output_type": "execute_result"
    }
   ],
   "source": [
    "def reverseVowels(s):\n",
    "    \"\"\"\n",
    "    :type s: str\n",
    "    :rtype: str\n",
    "    \"\"\"\n",
    "    vowels_index = []\n",
    "    vowels_value = []\n",
    "    for i, v in enumerate (s):\n",
    "        if v in \"AEIOUaeiou\":\n",
    "            vowels_index.append (i)\n",
    "            vowels_value.append (v)\n",
    "    vowels_value = vowels_value [: :-1]\n",
    "    reverseVowels = list (s)\n",
    "    for i, v in zip (vowels_index, vowels_value):\n",
    "        reverseVowels [i] = v\n",
    "    return \"\".join (reverseVowels)\n",
    "\n",
    "s = \"hay gedi hey\"\n",
    "reverseVowels = reverseVowels (s)\n",
    "reverseVowels"
   ]
  },
  {
   "cell_type": "code",
   "execution_count": null,
   "metadata": {},
   "outputs": [],
   "source": []
  }
 ],
 "metadata": {
  "kernelspec": {
   "display_name": "Python 3",
   "language": "python",
   "name": "python3"
  },
  "language_info": {
   "codemirror_mode": {
    "name": "ipython",
    "version": 3
   },
   "file_extension": ".py",
   "mimetype": "text/x-python",
   "name": "python",
   "nbconvert_exporter": "python",
   "pygments_lexer": "ipython3",
   "version": "3.7.0"
  }
 },
 "nbformat": 4,
 "nbformat_minor": 2
}
