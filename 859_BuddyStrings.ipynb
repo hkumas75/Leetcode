{
 "cells": [
  {
   "cell_type": "code",
   "execution_count": 32,
   "metadata": {},
   "outputs": [
    {
     "data": {
      "text/plain": [
       "True"
      ]
     },
     "execution_count": 32,
     "metadata": {},
     "output_type": "execute_result"
    }
   ],
   "source": [
    "def buddyStrings(A, B):\n",
    "    \"\"\"\n",
    "    :type A: str\n",
    "    :type B: str\n",
    "    :rtype: bool\n",
    "    \"\"\"\n",
    "    if (len (A) != len (B)) or (len (A)==1 and A!=B) or len (A) == 0:\n",
    "        return False\n",
    "    if  len (A) == 1 and (A == B):\n",
    "        return True\n",
    "    \n",
    "    buddy_cindexes = [i for i in range (len(A)) if A [i] != B [i]]\n",
    "    \n",
    "    if len (buddy_cindexes) > 2  or len (buddy_cindexes) == 1 or (len (buddy_cindexes) == 0 and len (set (A)) == len (A)):\n",
    "        return False\n",
    "    elif len (buddy_cindexes) == 0 and len (set (A)) < len (A):\n",
    "        return True\n",
    "    elif (A [buddy_cindexes [1]] == B [buddy_cindexes [0]]) and  (A [buddy_cindexes [0]] == B [buddy_cindexes [1]]):\n",
    "        return True\n",
    "    else:\n",
    "        return False\n",
    "    \n",
    "    \n",
    "A = \"abab\"\n",
    "B = \"abab\"\n",
    "buddy_strings = buddyStrings(A, B)\n",
    "buddy_strings\n"
   ]
  }
 ],
 "metadata": {
  "kernelspec": {
   "display_name": "Python 3",
   "language": "python",
   "name": "python3"
  },
  "language_info": {
   "codemirror_mode": {
    "name": "ipython",
    "version": 3
   },
   "file_extension": ".py",
   "mimetype": "text/x-python",
   "name": "python",
   "nbconvert_exporter": "python",
   "pygments_lexer": "ipython3",
   "version": "3.7.0"
  }
 },
 "nbformat": 4,
 "nbformat_minor": 2
}
