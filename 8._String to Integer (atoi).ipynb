{
 "cells": [
  {
   "cell_type": "code",
   "execution_count": 3,
   "metadata": {},
   "outputs": [
    {
     "data": {
      "text/plain": [
       "0"
      ]
     },
     "execution_count": 3,
     "metadata": {},
     "output_type": "execute_result"
    }
   ],
   "source": [
    "def myAtoi(str):\n",
    "        \"\"\"\n",
    "        :type str: str\n",
    "        :rtype: int\n",
    "        \"\"\"\n",
    "        str = str.strip () #remove white spaces at the beginning\n",
    "        if len(str)==0:\n",
    "            return 0\n",
    "        \n",
    "        first_s = \"\"\n",
    "        num_str = \"\"\n",
    "        num = 0\n",
    "        \n",
    "        #asses the first character\n",
    "        if str[0] in \"+-\":\n",
    "            first_s = str[0]\n",
    "        elif str[0].isdigit()==False or str[0]==\" \":\n",
    "            return 0\n",
    "        else:\n",
    "            num_str = str[0]\n",
    "        \n",
    "        #create the number as a string   \n",
    "        for i in range(1,len(str)):\n",
    "            if str[i].isdigit():\n",
    "                num_str += str[i]\n",
    "            else:\n",
    "                break\n",
    "                \n",
    "        #create the number with its sign as integer        \n",
    "        if len(first_s) >0 and first_s==\"+\" and len(num_str)>0:\n",
    "            num = int (num_str)\n",
    "        elif len(first_s) >0 and first_s==\"-\" and len (num_str)>0:\n",
    "            num = (0-int (num_str))\n",
    "        elif len (num_str)>0:\n",
    "            num = int(num_str)\n",
    "       \n",
    "        #find out the return value    \n",
    "        if num > (2**31-1):\n",
    "            return (2**31-1)\n",
    "        elif num < (-2**31):\n",
    "            return (-2**31)\n",
    "        else:\n",
    "            return num\n",
    "str = \"   -  22254866\"       \n",
    "number = myAtoi(str)\n",
    "number"
   ]
  },
  {
   "cell_type": "code",
   "execution_count": null,
   "metadata": {},
   "outputs": [],
   "source": []
  }
 ],
 "metadata": {
  "kernelspec": {
   "display_name": "Python 3",
   "language": "python",
   "name": "python3"
  },
  "language_info": {
   "codemirror_mode": {
    "name": "ipython",
    "version": 3
   },
   "file_extension": ".py",
   "mimetype": "text/x-python",
   "name": "python",
   "nbconvert_exporter": "python",
   "pygments_lexer": "ipython3",
   "version": "3.7.0"
  }
 },
 "nbformat": 4,
 "nbformat_minor": 2
}
