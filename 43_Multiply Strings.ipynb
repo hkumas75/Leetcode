{
 "cells": [
  {
   "cell_type": "code",
   "execution_count": 2,
   "metadata": {},
   "outputs": [
    {
     "data": {
      "text/plain": [
       "'60'"
      ]
     },
     "execution_count": 2,
     "metadata": {},
     "output_type": "execute_result"
    }
   ],
   "source": [
    "def multiply(num1, num2):\n",
    "    \"\"\"\n",
    "    :type num1: str\n",
    "    :type num2: str\n",
    "    :rtype: str\n",
    "    \"\"\"\n",
    "    numbers = {\"0\" :0, \"1\": 1, \"2\": 2, \"3\": 3, \"4\": 4, \"5\": 5, \"6\": 6, \"7\": 7, \"8\": 8, \"9\": 9}\n",
    "    seq1 = len (num1)-1\n",
    "    number1 = 0\n",
    "    for n1 in num1:\n",
    "        number1 += (numbers [n1] * (10**seq1))\n",
    "        seq1 -=1\n",
    "\n",
    "    seq2 = len (num2)-1\n",
    "    number2 = 0\n",
    "    for n2 in num2:\n",
    "        number2 += (numbers [n2] * (10**seq2))\n",
    "        seq2 -= 1\n",
    "\n",
    "    return str (number1 * number2)\n",
    "num1 = \"12\"\n",
    "num2 = \"5\"\n",
    "multiplystr = multiply (num1, num2)\n",
    "multiplystr"
   ]
  },
  {
   "cell_type": "code",
   "execution_count": null,
   "metadata": {},
   "outputs": [],
   "source": []
  }
 ],
 "metadata": {
  "kernelspec": {
   "display_name": "Python 3",
   "language": "python",
   "name": "python3"
  },
  "language_info": {
   "codemirror_mode": {
    "name": "ipython",
    "version": 3
   },
   "file_extension": ".py",
   "mimetype": "text/x-python",
   "name": "python",
   "nbconvert_exporter": "python",
   "pygments_lexer": "ipython3",
   "version": "3.7.0"
  }
 },
 "nbformat": 4,
 "nbformat_minor": 2
}
