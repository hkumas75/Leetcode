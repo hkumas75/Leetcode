{
 "cells": [
  {
   "cell_type": "code",
   "execution_count": 1,
   "metadata": {},
   "outputs": [
    {
     "data": {
      "text/plain": [
       "'*-pyth+wfBB-A'"
      ]
     },
     "execution_count": 1,
     "metadata": {},
     "output_type": "execute_result"
    }
   ],
   "source": [
    "def reverseOnlyLetters(S):\n",
    "        \"\"\"\n",
    "        :type S: str\n",
    "        :rtype: str\n",
    "        \"\"\"\n",
    "        reverseS = [\" \" for x in range (len (S))]\n",
    "        reverseS1 = []\n",
    "        reverseS2 = {}\n",
    "        for i in range (len (S)-1, -1, -1):\n",
    "            if (65 <= (ord (S[i])) <= 90) or (97 <= (ord (S[i])) <= 122):\n",
    "                reverseS1.append (S [i])\n",
    "            else:\n",
    "                reverseS2 [i] = S [i]\n",
    "                \n",
    "        for x in range (len (reverseS1)):\n",
    "            reverseS.insert (x, reverseS1 [x])\n",
    "            \n",
    "        import collections    \n",
    "        sortedreverseS2 = collections.OrderedDict(sorted(reverseS2.items()))\n",
    "        for key, value in sortedreverseS2.items ():\n",
    "            reverseS.insert (key, value)\n",
    "        \n",
    "        reverseOnlyLetters =\"\"\n",
    "        for i in range (len (S)):\n",
    "            reverseOnlyLetters += reverseS [i]\n",
    "        return  reverseOnlyLetters\n",
    "reverseStr = reverseOnlyLetters (\"*-ABBf+whty-p\")\n",
    "reverseStr"
   ]
  },
  {
   "cell_type": "code",
   "execution_count": null,
   "metadata": {},
   "outputs": [],
   "source": []
  }
 ],
 "metadata": {
  "kernelspec": {
   "display_name": "Python 3",
   "language": "python",
   "name": "python3"
  },
  "language_info": {
   "codemirror_mode": {
    "name": "ipython",
    "version": 3
   },
   "file_extension": ".py",
   "mimetype": "text/x-python",
   "name": "python",
   "nbconvert_exporter": "python",
   "pygments_lexer": "ipython3",
   "version": "3.7.0"
  }
 },
 "nbformat": 4,
 "nbformat_minor": 2
}
