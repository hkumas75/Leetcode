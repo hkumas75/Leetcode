{
 "cells": [
  {
   "cell_type": "code",
   "execution_count": 70,
   "metadata": {},
   "outputs": [
    {
     "name": "stdout",
     "output_type": "stream",
     "text": [
      "[7]\n"
     ]
    }
   ],
   "source": [
    "def singleNumber(nums):\n",
    "    \"\"\"\n",
    "    :type nums: List[int]\n",
    "    :rtype: List[int]\n",
    "    \"\"\" \n",
    "    \"\"\"single_numbers = []\n",
    "    for i in nums:\n",
    "        if i not in single_numbers:\n",
    "            single_numbers.append (i)  \n",
    "        else:\n",
    "            single_numbers.remove (i)\"\"\"\n",
    "    single_numbers = {} \n",
    "    for i in nums:\n",
    "        if i not in single_numbers:\n",
    "            single_numbers [i] = \"\"\n",
    "        else:\n",
    "            del single_numbers [i] \n",
    "    return list (single_numbers.keys ())\n",
    "\n",
    "numbers = [1, 1, 1, 3, 4, 5, 5, 6, 7, 8, 9, 1, 4, 6, 8, 9, 9, 9, 3]    \n",
    "single_number = singleNumber (numbers) \n",
    "print (single_number)"
   ]
  }
 ],
 "metadata": {
  "kernelspec": {
   "display_name": "Python 3",
   "language": "python",
   "name": "python3"
  },
  "language_info": {
   "codemirror_mode": {
    "name": "ipython",
    "version": 3
   },
   "file_extension": ".py",
   "mimetype": "text/x-python",
   "name": "python",
   "nbconvert_exporter": "python",
   "pygments_lexer": "ipython3",
   "version": "3.7.0"
  }
 },
 "nbformat": 4,
 "nbformat_minor": 2
}
