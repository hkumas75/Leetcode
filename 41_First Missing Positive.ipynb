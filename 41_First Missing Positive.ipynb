{
 "cells": [
  {
   "cell_type": "code",
   "execution_count": 1,
   "metadata": {},
   "outputs": [
    {
     "data": {
      "text/plain": [
       "3"
      ]
     },
     "execution_count": 1,
     "metadata": {},
     "output_type": "execute_result"
    }
   ],
   "source": [
    "def firstMissingPositive(nums):\n",
    "    \"\"\"\n",
    "    :type nums: List[int]\n",
    "    :rtype: int\n",
    "    \"\"\"\n",
    "    pos = 0\n",
    "    nums_ed = sorted (set (filter (lambda num: num > 0, nums)))\n",
    "\n",
    "    if len (nums_ed) == 0:\n",
    "        return 1\n",
    "    for indx, x in enumerate (nums_ed, start=1):\n",
    "        if x != indx:\n",
    "            return indx\n",
    "        pos = indx+1\n",
    "    return pos\n",
    "nums = 1, 2, 4, 5, 8, 9\n",
    "mispos = firstMissingPositive (nums)\n",
    "mispos"
   ]
  },
  {
   "cell_type": "code",
   "execution_count": null,
   "metadata": {},
   "outputs": [],
   "source": []
  }
 ],
 "metadata": {
  "kernelspec": {
   "display_name": "Python 3",
   "language": "python",
   "name": "python3"
  },
  "language_info": {
   "codemirror_mode": {
    "name": "ipython",
    "version": 3
   },
   "file_extension": ".py",
   "mimetype": "text/x-python",
   "name": "python",
   "nbconvert_exporter": "python",
   "pygments_lexer": "ipython3",
   "version": "3.7.0"
  }
 },
 "nbformat": 4,
 "nbformat_minor": 2
}
